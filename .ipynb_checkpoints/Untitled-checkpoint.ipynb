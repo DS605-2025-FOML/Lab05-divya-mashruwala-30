{
 "cells": [
  {
   "cell_type": "code",
   "execution_count": 1,
   "id": "c2d8965a-7040-4b38-ab66-7c3b95a006aa",
   "metadata": {},
   "outputs": [],
   "source": [
    "import numpy as np\n",
    "import pandas as pd\n",
    "import matplotlib.pyplot as plt\n",
    "import seaborn as sns"
   ]
  },
  {
   "cell_type": "code",
   "execution_count": 2,
   "id": "72a87b2a-5a72-4f93-bea0-92b026bfa05a",
   "metadata": {},
   "outputs": [],
   "source": [
    "df=pd.read_csv(\"telecom_churn.csv\")"
   ]
  },
  {
   "cell_type": "code",
   "execution_count": 3,
   "id": "7053fd4c-c63c-42c8-91eb-06ca98182ced",
   "metadata": {
    "scrolled": true
   },
   "outputs": [
    {
     "data": {
      "text/html": [
       "<div>\n",
       "<style scoped>\n",
       "    .dataframe tbody tr th:only-of-type {\n",
       "        vertical-align: middle;\n",
       "    }\n",
       "\n",
       "    .dataframe tbody tr th {\n",
       "        vertical-align: top;\n",
       "    }\n",
       "\n",
       "    .dataframe thead th {\n",
       "        text-align: right;\n",
       "    }\n",
       "</style>\n",
       "<table border=\"1\" class=\"dataframe\">\n",
       "  <thead>\n",
       "    <tr style=\"text-align: right;\">\n",
       "      <th></th>\n",
       "      <th>CustomerID</th>\n",
       "      <th>Gender</th>\n",
       "      <th>SeniorCitizen</th>\n",
       "      <th>Partner</th>\n",
       "      <th>Dependents</th>\n",
       "      <th>Tenure</th>\n",
       "      <th>PhoneService</th>\n",
       "      <th>InternetService</th>\n",
       "      <th>MonthlyCharges</th>\n",
       "      <th>TotalCharges</th>\n",
       "      <th>...</th>\n",
       "      <th>Contract</th>\n",
       "      <th>PaymentMethod</th>\n",
       "      <th>MultipleLines</th>\n",
       "      <th>StreamingTV</th>\n",
       "      <th>StreamingMovies</th>\n",
       "      <th>OnlineSecurity</th>\n",
       "      <th>OnlineBackup</th>\n",
       "      <th>AvgChargesPerMonth</th>\n",
       "      <th>IsHighValueCustomer</th>\n",
       "      <th>IsHeavyDataUser</th>\n",
       "    </tr>\n",
       "  </thead>\n",
       "  <tbody>\n",
       "    <tr>\n",
       "      <th>4662</th>\n",
       "      <td>CUST04662</td>\n",
       "      <td>Male</td>\n",
       "      <td>1</td>\n",
       "      <td>Yes</td>\n",
       "      <td>Yes</td>\n",
       "      <td>67</td>\n",
       "      <td>Yes</td>\n",
       "      <td>Fiber optic</td>\n",
       "      <td>71.19</td>\n",
       "      <td>4763.713116225109</td>\n",
       "      <td>...</td>\n",
       "      <td>Month-to-month</td>\n",
       "      <td>Electronic check</td>\n",
       "      <td>Yes</td>\n",
       "      <td>Yes</td>\n",
       "      <td>Yes</td>\n",
       "      <td>Yes</td>\n",
       "      <td>Yes</td>\n",
       "      <td>71.100196</td>\n",
       "      <td>0</td>\n",
       "      <td>1</td>\n",
       "    </tr>\n",
       "    <tr>\n",
       "      <th>9640</th>\n",
       "      <td>CUST09640</td>\n",
       "      <td>Male</td>\n",
       "      <td>0</td>\n",
       "      <td>No</td>\n",
       "      <td>No</td>\n",
       "      <td>56</td>\n",
       "      <td>Yes</td>\n",
       "      <td>Fiber optic</td>\n",
       "      <td>99.10</td>\n",
       "      <td>5608.406570530393</td>\n",
       "      <td>...</td>\n",
       "      <td>Two year</td>\n",
       "      <td>Electronic check</td>\n",
       "      <td>Yes</td>\n",
       "      <td>No</td>\n",
       "      <td>No</td>\n",
       "      <td>No</td>\n",
       "      <td>Yes</td>\n",
       "      <td>100.150117</td>\n",
       "      <td>1</td>\n",
       "      <td>0</td>\n",
       "    </tr>\n",
       "    <tr>\n",
       "      <th>6894</th>\n",
       "      <td>CUST06894</td>\n",
       "      <td>Female</td>\n",
       "      <td>0</td>\n",
       "      <td>Yes</td>\n",
       "      <td>No</td>\n",
       "      <td>18</td>\n",
       "      <td>Yes</td>\n",
       "      <td>DSL</td>\n",
       "      <td>37.36</td>\n",
       "      <td>643.2041084414046</td>\n",
       "      <td>...</td>\n",
       "      <td>Month-to-month</td>\n",
       "      <td>Mailed check</td>\n",
       "      <td>Yes</td>\n",
       "      <td>No</td>\n",
       "      <td>Yes</td>\n",
       "      <td>No</td>\n",
       "      <td>No</td>\n",
       "      <td>35.733562</td>\n",
       "      <td>0</td>\n",
       "      <td>1</td>\n",
       "    </tr>\n",
       "    <tr>\n",
       "      <th>346</th>\n",
       "      <td>CUST00346</td>\n",
       "      <td>Male</td>\n",
       "      <td>0</td>\n",
       "      <td>No</td>\n",
       "      <td>No</td>\n",
       "      <td>56</td>\n",
       "      <td>Yes</td>\n",
       "      <td>Fiber optic</td>\n",
       "      <td>41.19</td>\n",
       "      <td>2371.1009169271333</td>\n",
       "      <td>...</td>\n",
       "      <td>Month-to-month</td>\n",
       "      <td>Credit card</td>\n",
       "      <td>Yes</td>\n",
       "      <td>No</td>\n",
       "      <td>Yes</td>\n",
       "      <td>No</td>\n",
       "      <td>Yes</td>\n",
       "      <td>42.341088</td>\n",
       "      <td>0</td>\n",
       "      <td>1</td>\n",
       "    </tr>\n",
       "    <tr>\n",
       "      <th>8253</th>\n",
       "      <td>CUST08253</td>\n",
       "      <td>Female</td>\n",
       "      <td>0</td>\n",
       "      <td>Yes</td>\n",
       "      <td>Yes</td>\n",
       "      <td>53</td>\n",
       "      <td>Yes</td>\n",
       "      <td>Fiber optic</td>\n",
       "      <td>104.61</td>\n",
       "      <td>5600.327864310156</td>\n",
       "      <td>...</td>\n",
       "      <td>NaN</td>\n",
       "      <td>Bank transfer</td>\n",
       "      <td>Yes</td>\n",
       "      <td>Yes</td>\n",
       "      <td>No</td>\n",
       "      <td>Yes</td>\n",
       "      <td>No</td>\n",
       "      <td>105.666563</td>\n",
       "      <td>1</td>\n",
       "      <td>1</td>\n",
       "    </tr>\n",
       "  </tbody>\n",
       "</table>\n",
       "<p>5 rows × 26 columns</p>\n",
       "</div>"
      ],
      "text/plain": [
       "     CustomerID  Gender  SeniorCitizen Partner Dependents  Tenure  \\\n",
       "4662  CUST04662    Male              1     Yes        Yes      67   \n",
       "9640  CUST09640    Male              0      No         No      56   \n",
       "6894  CUST06894  Female              0     Yes         No      18   \n",
       "346   CUST00346    Male              0      No         No      56   \n",
       "8253  CUST08253  Female              0     Yes        Yes      53   \n",
       "\n",
       "     PhoneService InternetService  MonthlyCharges        TotalCharges  ...  \\\n",
       "4662          Yes     Fiber optic           71.19   4763.713116225109  ...   \n",
       "9640          Yes     Fiber optic           99.10   5608.406570530393  ...   \n",
       "6894          Yes             DSL           37.36   643.2041084414046  ...   \n",
       "346           Yes     Fiber optic           41.19  2371.1009169271333  ...   \n",
       "8253          Yes     Fiber optic          104.61   5600.327864310156  ...   \n",
       "\n",
       "            Contract     PaymentMethod  MultipleLines  StreamingTV  \\\n",
       "4662  Month-to-month  Electronic check            Yes          Yes   \n",
       "9640        Two year  Electronic check            Yes           No   \n",
       "6894  Month-to-month      Mailed check            Yes           No   \n",
       "346   Month-to-month       Credit card            Yes           No   \n",
       "8253             NaN     Bank transfer            Yes          Yes   \n",
       "\n",
       "      StreamingMovies  OnlineSecurity OnlineBackup AvgChargesPerMonth  \\\n",
       "4662              Yes             Yes          Yes          71.100196   \n",
       "9640               No              No          Yes         100.150117   \n",
       "6894              Yes              No           No          35.733562   \n",
       "346               Yes              No          Yes          42.341088   \n",
       "8253               No             Yes           No         105.666563   \n",
       "\n",
       "     IsHighValueCustomer IsHeavyDataUser  \n",
       "4662                   0               1  \n",
       "9640                   1               0  \n",
       "6894                   0               1  \n",
       "346                    0               1  \n",
       "8253                   1               1  \n",
       "\n",
       "[5 rows x 26 columns]"
      ]
     },
     "execution_count": 3,
     "metadata": {},
     "output_type": "execute_result"
    }
   ],
   "source": [
    "df.sample(5)"
   ]
  },
  {
   "cell_type": "code",
   "execution_count": 4,
   "id": "778e5ab7-d4d8-47f8-b013-358048c3086e",
   "metadata": {},
   "outputs": [
    {
     "data": {
      "text/plain": [
       "Index(['CustomerID', 'Gender', 'SeniorCitizen', 'Partner', 'Dependents',\n",
       "       'Tenure', 'PhoneService', 'InternetService', 'MonthlyCharges',\n",
       "       'TotalCharges', 'Churn', 'Timestamp', 'NumTechSupportCalls',\n",
       "       'NumServiceTickets', 'StreamingMinutesPerMonth', 'DataUsageGB',\n",
       "       'Contract', 'PaymentMethod', 'MultipleLines', 'StreamingTV',\n",
       "       'StreamingMovies', 'OnlineSecurity', 'OnlineBackup',\n",
       "       'AvgChargesPerMonth', 'IsHighValueCustomer', 'IsHeavyDataUser'],\n",
       "      dtype='object')"
      ]
     },
     "execution_count": 4,
     "metadata": {},
     "output_type": "execute_result"
    }
   ],
   "source": [
    "df.columns"
   ]
  },
  {
   "cell_type": "code",
   "execution_count": 5,
   "id": "c9fb5d58-2c5a-483e-bf3e-ca3d2adffc15",
   "metadata": {},
   "outputs": [
    {
     "data": {
      "text/plain": [
       "array(['No', 'Yes'], dtype=object)"
      ]
     },
     "execution_count": 5,
     "metadata": {},
     "output_type": "execute_result"
    }
   ],
   "source": [
    "df[\"Churn\"].unique()"
   ]
  },
  {
   "cell_type": "code",
   "execution_count": 6,
   "id": "2cd37d80-906e-4160-a42a-7c34e42e82a1",
   "metadata": {},
   "outputs": [
    {
     "name": "stdout",
     "output_type": "stream",
     "text": [
      "<class 'pandas.core.frame.DataFrame'>\n",
      "RangeIndex: 12000 entries, 0 to 11999\n",
      "Data columns (total 26 columns):\n",
      " #   Column                    Non-Null Count  Dtype  \n",
      "---  ------                    --------------  -----  \n",
      " 0   CustomerID                12000 non-null  object \n",
      " 1   Gender                    12000 non-null  object \n",
      " 2   SeniorCitizen             12000 non-null  int64  \n",
      " 3   Partner                   12000 non-null  object \n",
      " 4   Dependents                12000 non-null  object \n",
      " 5   Tenure                    12000 non-null  int64  \n",
      " 6   PhoneService              12000 non-null  object \n",
      " 7   InternetService           12000 non-null  object \n",
      " 8   MonthlyCharges            11400 non-null  float64\n",
      " 9   TotalCharges              11509 non-null  object \n",
      " 10  Churn                     12000 non-null  object \n",
      " 11  Timestamp                 12000 non-null  object \n",
      " 12  NumTechSupportCalls       12000 non-null  int64  \n",
      " 13  NumServiceTickets         12000 non-null  int64  \n",
      " 14  StreamingMinutesPerMonth  11400 non-null  float64\n",
      " 15  DataUsageGB               11400 non-null  float64\n",
      " 16  Contract                  11400 non-null  object \n",
      " 17  PaymentMethod             11400 non-null  object \n",
      " 18  MultipleLines             12000 non-null  object \n",
      " 19  StreamingTV               12000 non-null  object \n",
      " 20  StreamingMovies           12000 non-null  object \n",
      " 21  OnlineSecurity            11400 non-null  object \n",
      " 22  OnlineBackup              11400 non-null  object \n",
      " 23  AvgChargesPerMonth        11140 non-null  float64\n",
      " 24  IsHighValueCustomer       12000 non-null  int64  \n",
      " 25  IsHeavyDataUser           12000 non-null  int64  \n",
      "dtypes: float64(4), int64(6), object(16)\n",
      "memory usage: 2.4+ MB\n"
     ]
    }
   ],
   "source": [
    "df.info()"
   ]
  },
  {
   "cell_type": "code",
   "execution_count": 7,
   "id": "d5236993-d226-46a0-8959-86449571dad4",
   "metadata": {},
   "outputs": [
    {
     "data": {
      "text/plain": [
       "CustomerID                    0\n",
       "Gender                        0\n",
       "SeniorCitizen                 0\n",
       "Partner                       0\n",
       "Dependents                    0\n",
       "Tenure                        0\n",
       "PhoneService                  0\n",
       "InternetService               0\n",
       "MonthlyCharges              600\n",
       "TotalCharges                491\n",
       "Churn                         0\n",
       "Timestamp                     0\n",
       "NumTechSupportCalls           0\n",
       "NumServiceTickets             0\n",
       "StreamingMinutesPerMonth    600\n",
       "DataUsageGB                 600\n",
       "Contract                    600\n",
       "PaymentMethod               600\n",
       "MultipleLines                 0\n",
       "StreamingTV                   0\n",
       "StreamingMovies               0\n",
       "OnlineSecurity              600\n",
       "OnlineBackup                600\n",
       "AvgChargesPerMonth          860\n",
       "IsHighValueCustomer           0\n",
       "IsHeavyDataUser               0\n",
       "dtype: int64"
      ]
     },
     "execution_count": 7,
     "metadata": {},
     "output_type": "execute_result"
    }
   ],
   "source": [
    "df.isnull().sum()"
   ]
  },
  {
   "cell_type": "code",
   "execution_count": 8,
   "id": "bf8a191a-5aa0-447d-9c1b-632e00a8a47b",
   "metadata": {},
   "outputs": [
    {
     "data": {
      "text/plain": [
       "Churn\n",
       "No     8961\n",
       "Yes    3039\n",
       "Name: count, dtype: int64"
      ]
     },
     "execution_count": 8,
     "metadata": {},
     "output_type": "execute_result"
    }
   ],
   "source": [
    "df['Churn'].value_counts()"
   ]
  },
  {
   "cell_type": "code",
   "execution_count": 9,
   "id": "b898d384-81c3-43c7-b373-2a8bfa598e48",
   "metadata": {},
   "outputs": [
    {
     "name": "stdout",
     "output_type": "stream",
     "text": [
      "<class 'pandas.core.frame.DataFrame'>\n",
      "RangeIndex: 12000 entries, 0 to 11999\n",
      "Data columns (total 26 columns):\n",
      " #   Column                    Non-Null Count  Dtype  \n",
      "---  ------                    --------------  -----  \n",
      " 0   CustomerID                12000 non-null  object \n",
      " 1   Gender                    12000 non-null  object \n",
      " 2   SeniorCitizen             12000 non-null  int64  \n",
      " 3   Partner                   12000 non-null  object \n",
      " 4   Dependents                12000 non-null  object \n",
      " 5   Tenure                    12000 non-null  int64  \n",
      " 6   PhoneService              12000 non-null  object \n",
      " 7   InternetService           12000 non-null  object \n",
      " 8   MonthlyCharges            11400 non-null  float64\n",
      " 9   TotalCharges              11509 non-null  object \n",
      " 10  Churn                     12000 non-null  object \n",
      " 11  Timestamp                 12000 non-null  object \n",
      " 12  NumTechSupportCalls       12000 non-null  int64  \n",
      " 13  NumServiceTickets         12000 non-null  int64  \n",
      " 14  StreamingMinutesPerMonth  11400 non-null  float64\n",
      " 15  DataUsageGB               11400 non-null  float64\n",
      " 16  Contract                  11400 non-null  object \n",
      " 17  PaymentMethod             11400 non-null  object \n",
      " 18  MultipleLines             12000 non-null  object \n",
      " 19  StreamingTV               12000 non-null  object \n",
      " 20  StreamingMovies           12000 non-null  object \n",
      " 21  OnlineSecurity            11400 non-null  object \n",
      " 22  OnlineBackup              11400 non-null  object \n",
      " 23  AvgChargesPerMonth        11140 non-null  float64\n",
      " 24  IsHighValueCustomer       12000 non-null  int64  \n",
      " 25  IsHeavyDataUser           12000 non-null  int64  \n",
      "dtypes: float64(4), int64(6), object(16)\n",
      "memory usage: 2.4+ MB\n"
     ]
    }
   ],
   "source": [
    "df.info()"
   ]
  },
  {
   "cell_type": "code",
   "execution_count": 10,
   "id": "1949db0a-8c99-4d05-b28e-0a9008d3b776",
   "metadata": {},
   "outputs": [
    {
     "data": {
      "text/plain": [
       "CustomerID                    0\n",
       "Gender                        0\n",
       "SeniorCitizen                 0\n",
       "Partner                       0\n",
       "Dependents                    0\n",
       "Tenure                        0\n",
       "PhoneService                  0\n",
       "InternetService               0\n",
       "MonthlyCharges              600\n",
       "TotalCharges                491\n",
       "Churn                         0\n",
       "Timestamp                     0\n",
       "NumTechSupportCalls           0\n",
       "NumServiceTickets             0\n",
       "StreamingMinutesPerMonth    600\n",
       "DataUsageGB                 600\n",
       "Contract                    600\n",
       "PaymentMethod               600\n",
       "MultipleLines                 0\n",
       "StreamingTV                   0\n",
       "StreamingMovies               0\n",
       "OnlineSecurity              600\n",
       "OnlineBackup                600\n",
       "AvgChargesPerMonth          860\n",
       "IsHighValueCustomer           0\n",
       "IsHeavyDataUser               0\n",
       "dtype: int64"
      ]
     },
     "execution_count": 10,
     "metadata": {},
     "output_type": "execute_result"
    }
   ],
   "source": [
    "df.isnull().sum()"
   ]
  },
  {
   "cell_type": "code",
   "execution_count": 11,
   "id": "80f4b556-40b4-4172-85de-8b96e95f32d0",
   "metadata": {},
   "outputs": [
    {
     "data": {
      "text/plain": [
       "dtype('O')"
      ]
     },
     "execution_count": 11,
     "metadata": {},
     "output_type": "execute_result"
    }
   ],
   "source": [
    "df['TotalCharges'].dtype"
   ]
  },
  {
   "cell_type": "code",
   "execution_count": 12,
   "id": "c37892fa-8347-4e62-a10a-b48bc698db6c",
   "metadata": {},
   "outputs": [
    {
     "data": {
      "text/plain": [
       "TotalCharges\n",
       "error                 200\n",
       "3189.8727361488277      1\n",
       "5953.827993985448       1\n",
       "2697.0516073809263      1\n",
       "1834.6274449972536      1\n",
       "                     ... \n",
       "218.24488501460183      1\n",
       "1455.5777391971842      1\n",
       "1185.9589326345072      1\n",
       "1230.599360235048       1\n",
       "1237.599682933327       1\n",
       "Name: count, Length: 11310, dtype: int64"
      ]
     },
     "execution_count": 12,
     "metadata": {},
     "output_type": "execute_result"
    }
   ],
   "source": [
    "df['TotalCharges'].value_counts()"
   ]
  },
  {
   "cell_type": "code",
   "execution_count": 13,
   "id": "d2540e3b-a0d4-4a36-b0d0-b257e56e3a4f",
   "metadata": {},
   "outputs": [],
   "source": [
    "df[\"TotalCharges\"] = pd.to_numeric(df[\"TotalCharges\"], errors=\"coerce\")"
   ]
  },
  {
   "cell_type": "code",
   "execution_count": 14,
   "id": "18ca6e7d-a913-4337-a144-d39e53fa4794",
   "metadata": {},
   "outputs": [
    {
     "data": {
      "text/plain": [
       "TotalCharges\n",
       "4144.390827    1\n",
       "3947.345444    1\n",
       "1376.619026    1\n",
       "458.930836     1\n",
       "864.343128     1\n",
       "              ..\n",
       "7624.119947    1\n",
       "967.365178     1\n",
       "214.569284     1\n",
       "3875.470817    1\n",
       "955.130965     1\n",
       "Name: count, Length: 11309, dtype: int64"
      ]
     },
     "execution_count": 14,
     "metadata": {},
     "output_type": "execute_result"
    }
   ],
   "source": [
    "df['TotalCharges'].value_counts()"
   ]
  },
  {
   "cell_type": "code",
   "execution_count": 15,
   "id": "554d4244-6b93-469c-aa0b-b88f30de15bc",
   "metadata": {},
   "outputs": [
    {
     "data": {
      "text/plain": [
       "dtype('float64')"
      ]
     },
     "execution_count": 15,
     "metadata": {},
     "output_type": "execute_result"
    }
   ],
   "source": [
    "df['TotalCharges'].dtype"
   ]
  },
  {
   "cell_type": "code",
   "execution_count": 16,
   "id": "f260c769-be5b-4b4f-b15b-261d23565cbf",
   "metadata": {},
   "outputs": [
    {
     "data": {
      "text/plain": [
       "np.int64(691)"
      ]
     },
     "execution_count": 16,
     "metadata": {},
     "output_type": "execute_result"
    }
   ],
   "source": [
    "df['TotalCharges'].isnull().sum()"
   ]
  },
  {
   "cell_type": "code",
   "execution_count": 17,
   "id": "0880b64e-79cb-4b85-af15-73f7c7dfe170",
   "metadata": {},
   "outputs": [
    {
     "name": "stdout",
     "output_type": "stream",
     "text": [
      "MonthlyCharges              600\n",
      "TotalCharges                691\n",
      "StreamingMinutesPerMonth    600\n",
      "DataUsageGB                 600\n",
      "Contract                    600\n",
      "PaymentMethod               600\n",
      "OnlineSecurity              600\n",
      "OnlineBackup                600\n",
      "AvgChargesPerMonth          860\n",
      "dtype: int64\n",
      "MonthlyCharges              5.000000\n",
      "TotalCharges                5.758333\n",
      "StreamingMinutesPerMonth    5.000000\n",
      "DataUsageGB                 5.000000\n",
      "Contract                    5.000000\n",
      "PaymentMethod               5.000000\n",
      "OnlineSecurity              5.000000\n",
      "OnlineBackup                5.000000\n",
      "AvgChargesPerMonth          7.166667\n",
      "dtype: float64\n"
     ]
    }
   ],
   "source": [
    "missing_counts = df.isnull().sum()\n",
    "\n",
    "missing_cols = missing_counts[missing_counts > 0]\n",
    "print(missing_cols)\n",
    "missing_percent = (missing_cols / len(df)) * 100\n",
    "print(missing_percent)"
   ]
  },
  {
   "cell_type": "code",
   "execution_count": 18,
   "id": "616e7d1a-1a7a-46c6-a3a0-ef3669c9ba00",
   "metadata": {},
   "outputs": [
    {
     "data": {
      "text/plain": [
       "Index(['CustomerID', 'Gender', 'SeniorCitizen', 'Partner', 'Dependents',\n",
       "       'Tenure', 'PhoneService', 'InternetService', 'MonthlyCharges',\n",
       "       'TotalCharges', 'Churn', 'Timestamp', 'NumTechSupportCalls',\n",
       "       'NumServiceTickets', 'StreamingMinutesPerMonth', 'DataUsageGB',\n",
       "       'Contract', 'PaymentMethod', 'MultipleLines', 'StreamingTV',\n",
       "       'StreamingMovies', 'OnlineSecurity', 'OnlineBackup',\n",
       "       'AvgChargesPerMonth', 'IsHighValueCustomer', 'IsHeavyDataUser'],\n",
       "      dtype='object')"
      ]
     },
     "execution_count": 18,
     "metadata": {},
     "output_type": "execute_result"
    }
   ],
   "source": [
    "df.columns"
   ]
  },
  {
   "cell_type": "code",
   "execution_count": 19,
   "id": "3bcf7c24-5608-4ad5-82f6-2175531bbf9a",
   "metadata": {},
   "outputs": [],
   "source": [
    "df=df.drop(['CustomerID','Timestamp'],axis=1)"
   ]
  },
  {
   "cell_type": "code",
   "execution_count": 20,
   "id": "21b71a48-b276-462b-8b36-12655bba8aa7",
   "metadata": {},
   "outputs": [
    {
     "data": {
      "text/plain": [
       "array(['No', 'Yes'], dtype=object)"
      ]
     },
     "execution_count": 20,
     "metadata": {},
     "output_type": "execute_result"
    }
   ],
   "source": [
    "df[\"Churn\"].unique()"
   ]
  },
  {
   "cell_type": "code",
   "execution_count": 21,
   "id": "6a26cd3f-abf1-4164-8b04-053b6ebb2cab",
   "metadata": {},
   "outputs": [
    {
     "name": "stdout",
     "output_type": "stream",
     "text": [
      "<class 'pandas.core.frame.DataFrame'>\n",
      "RangeIndex: 12000 entries, 0 to 11999\n",
      "Data columns (total 24 columns):\n",
      " #   Column                    Non-Null Count  Dtype  \n",
      "---  ------                    --------------  -----  \n",
      " 0   Gender                    12000 non-null  object \n",
      " 1   SeniorCitizen             12000 non-null  int64  \n",
      " 2   Partner                   12000 non-null  object \n",
      " 3   Dependents                12000 non-null  object \n",
      " 4   Tenure                    12000 non-null  int64  \n",
      " 5   PhoneService              12000 non-null  object \n",
      " 6   InternetService           12000 non-null  object \n",
      " 7   MonthlyCharges            11400 non-null  float64\n",
      " 8   TotalCharges              11309 non-null  float64\n",
      " 9   Churn                     12000 non-null  object \n",
      " 10  NumTechSupportCalls       12000 non-null  int64  \n",
      " 11  NumServiceTickets         12000 non-null  int64  \n",
      " 12  StreamingMinutesPerMonth  11400 non-null  float64\n",
      " 13  DataUsageGB               11400 non-null  float64\n",
      " 14  Contract                  11400 non-null  object \n",
      " 15  PaymentMethod             11400 non-null  object \n",
      " 16  MultipleLines             12000 non-null  object \n",
      " 17  StreamingTV               12000 non-null  object \n",
      " 18  StreamingMovies           12000 non-null  object \n",
      " 19  OnlineSecurity            11400 non-null  object \n",
      " 20  OnlineBackup              11400 non-null  object \n",
      " 21  AvgChargesPerMonth        11140 non-null  float64\n",
      " 22  IsHighValueCustomer       12000 non-null  int64  \n",
      " 23  IsHeavyDataUser           12000 non-null  int64  \n",
      "dtypes: float64(5), int64(6), object(13)\n",
      "memory usage: 2.2+ MB\n"
     ]
    }
   ],
   "source": [
    "df.info()"
   ]
  },
  {
   "cell_type": "code",
   "execution_count": 22,
   "id": "31c0e6d9-2348-4d42-99ae-46cdb6c44b23",
   "metadata": {},
   "outputs": [
    {
     "data": {
      "image/png": "[encoded data removed]",
      "text/plain": [
       "<Figure size 800x600 with 1 Axes>"
      ]
     },
     "metadata": {},
     "output_type": "display_data"
    }
   ],
   "source": [
    "import matplotlib.pyplot as plt\n",
    "import seaborn as sns\n",
    "\n",
    "plt.figure(figsize=(8,6))\n",
    "sns.histplot(data=df, x=\"TotalCharges\", hue=\"Churn\", bins=40, palette=\"Set1\", kde=True)\n",
    "plt.title(\"Distribution of Total Charges by Churn Status\")\n",
    "plt.xlabel(\"Total Charges\")\n",
    "plt.ylabel(\"Count\")\n",
    "plt.legend(title=\"Churn\", labels=[\"No (0)\", \"Yes (1)\"])\n",
    "plt.show()"
   ]
  },
  {
   "cell_type": "markdown",
   "id": "698602ba-5d0c-4133-8d8a-2ef967ad4d9e",
   "metadata": {},
   "source": [
    "Churned customers tend to have lower TotalCharges.\n",
    "Most red bars are concentrated on the left side (0–2000).\n",
    "This suggests many churned customers left early, paying less charges in total.\n",
    "Non-churned customers accumulate higher charges.\n",
    "Blue bars extend further to the right, meaning loyal customers stayed longer and paid more.\n",
    "\n",
    "\n"
   ]
  },
  {
   "cell_type": "code",
   "execution_count": 23,
   "id": "90b4980d-4535-43a7-8c47-fea2b915a832",
   "metadata": {},
   "outputs": [
    {
     "data": {
      "image/png": "[encoded data removed]",
      "text/plain": [
       "<Figure size 800x500 with 1 Axes>"
      ]
     },
     "metadata": {},
     "output_type": "display_data"
    }
   ],
   "source": [
    "plt.figure(figsize=(8,5))\n",
    "sns.countplot(x='PaymentMethod', hue='Churn', data=df)\n",
    "plt.title('Churn by Payment method')\n",
    "plt.xlabel('Payment method')\n",
    "plt.ylabel('Number of Customers')\n",
    "plt.legend(title='Churn', labels=['No', 'Yes'])\n",
    "plt.show()"
   ]
  },
  {
   "cell_type": "markdown",
   "id": "e5ad8a69-a5c2-4e2f-993b-599dd7feb074",
   "metadata": {},
   "source": [
    "Electronic check has the highest number of churned customers (orange bar) as well as the highest total number of customers.\n",
    "This suggests customers paying via electronic check are more likely to churn compared to other methods.\n",
    "Mailed check, Credit card, Bank transfer have similar churn counts (around 500–600 each), but their total customer counts are lower.\n",
    "Likely, Electronic check customers have a higher churn rate compared to Credit card or Bank transfer."
   ]
  },
  {
   "cell_type": "code",
   "execution_count": 24,
   "id": "ad4b9946-f76d-4091-a2b4-45422cc339fe",
   "metadata": {},
   "outputs": [],
   "source": [
    "df['RevenuePerGB'] = df['MonthlyCharges'] / (df['DataUsageGB'] + 1e-5)"
   ]
  },
  {
   "cell_type": "code",
   "execution_count": 25,
   "id": "facea679-d73c-4ed5-a27e-5e318130d4a5",
   "metadata": {},
   "outputs": [],
   "source": [
    "df['StreamingHoursPerDay'] = df['StreamingMinutesPerMonth'] / 30 / 60"
   ]
  },
  {
   "cell_type": "code",
   "execution_count": 26,
   "id": "8d0a351c-8d5d-4880-9ec4-59a6b5c1a61d",
   "metadata": {},
   "outputs": [],
   "source": [
    "df['RevenuePerGB']=df['RevenuePerGB'].round(2)"
   ]
  },
  {
   "cell_type": "code",
   "execution_count": 27,
   "id": "7c150e02-1241-4ace-ae69-2a2dc3cc8981",
   "metadata": {},
   "outputs": [
    {
     "data": {
      "text/html": [
       "<div>\n",
       "<style scoped>\n",
       "    .dataframe tbody tr th:only-of-type {\n",
       "        vertical-align: middle;\n",
       "    }\n",
       "\n",
       "    .dataframe tbody tr th {\n",
       "        vertical-align: top;\n",
       "    }\n",
       "\n",
       "    .dataframe thead th {\n",
       "        text-align: right;\n",
       "    }\n",
       "</style>\n",
       "<table border=\"1\" class=\"dataframe\">\n",
       "  <thead>\n",
       "    <tr style=\"text-align: right;\">\n",
       "      <th></th>\n",
       "      <th>Gender</th>\n",
       "      <th>SeniorCitizen</th>\n",
       "      <th>Partner</th>\n",
       "      <th>Dependents</th>\n",
       "      <th>Tenure</th>\n",
       "      <th>PhoneService</th>\n",
       "      <th>InternetService</th>\n",
       "      <th>MonthlyCharges</th>\n",
       "      <th>TotalCharges</th>\n",
       "      <th>Churn</th>\n",
       "      <th>...</th>\n",
       "      <th>MultipleLines</th>\n",
       "      <th>StreamingTV</th>\n",
       "      <th>StreamingMovies</th>\n",
       "      <th>OnlineSecurity</th>\n",
       "      <th>OnlineBackup</th>\n",
       "      <th>AvgChargesPerMonth</th>\n",
       "      <th>IsHighValueCustomer</th>\n",
       "      <th>IsHeavyDataUser</th>\n",
       "      <th>RevenuePerGB</th>\n",
       "      <th>StreamingHoursPerDay</th>\n",
       "    </tr>\n",
       "  </thead>\n",
       "  <tbody>\n",
       "    <tr>\n",
       "      <th>0</th>\n",
       "      <td>Male</td>\n",
       "      <td>0</td>\n",
       "      <td>No</td>\n",
       "      <td>No</td>\n",
       "      <td>37</td>\n",
       "      <td>Yes</td>\n",
       "      <td>Fiber optic</td>\n",
       "      <td>104.55</td>\n",
       "      <td>3947.345444</td>\n",
       "      <td>No</td>\n",
       "      <td>...</td>\n",
       "      <td>No</td>\n",
       "      <td>Yes</td>\n",
       "      <td>No</td>\n",
       "      <td>No</td>\n",
       "      <td>No</td>\n",
       "      <td>106.685012</td>\n",
       "      <td>1</td>\n",
       "      <td>1</td>\n",
       "      <td>4.11</td>\n",
       "      <td>0.232940</td>\n",
       "    </tr>\n",
       "    <tr>\n",
       "      <th>1</th>\n",
       "      <td>Female</td>\n",
       "      <td>0</td>\n",
       "      <td>No</td>\n",
       "      <td>No</td>\n",
       "      <td>32</td>\n",
       "      <td>Yes</td>\n",
       "      <td>No</td>\n",
       "      <td>43.28</td>\n",
       "      <td>1376.619026</td>\n",
       "      <td>No</td>\n",
       "      <td>...</td>\n",
       "      <td>No</td>\n",
       "      <td>No internet</td>\n",
       "      <td>No internet</td>\n",
       "      <td>No internet</td>\n",
       "      <td>No internet</td>\n",
       "      <td>43.019345</td>\n",
       "      <td>0</td>\n",
       "      <td>0</td>\n",
       "      <td>4328000.00</td>\n",
       "      <td>0.000000</td>\n",
       "    </tr>\n",
       "    <tr>\n",
       "      <th>2</th>\n",
       "      <td>Male</td>\n",
       "      <td>1</td>\n",
       "      <td>Yes</td>\n",
       "      <td>No</td>\n",
       "      <td>5</td>\n",
       "      <td>Yes</td>\n",
       "      <td>DSL</td>\n",
       "      <td>88.73</td>\n",
       "      <td>458.930836</td>\n",
       "      <td>No</td>\n",
       "      <td>...</td>\n",
       "      <td>No phone service</td>\n",
       "      <td>No</td>\n",
       "      <td>Yes</td>\n",
       "      <td>No</td>\n",
       "      <td>NaN</td>\n",
       "      <td>91.786167</td>\n",
       "      <td>0</td>\n",
       "      <td>1</td>\n",
       "      <td>2.58</td>\n",
       "      <td>0.291866</td>\n",
       "    </tr>\n",
       "    <tr>\n",
       "      <th>3</th>\n",
       "      <td>Male</td>\n",
       "      <td>0</td>\n",
       "      <td>Yes</td>\n",
       "      <td>No</td>\n",
       "      <td>12</td>\n",
       "      <td>Yes</td>\n",
       "      <td>No</td>\n",
       "      <td>73.78</td>\n",
       "      <td>864.343128</td>\n",
       "      <td>Yes</td>\n",
       "      <td>...</td>\n",
       "      <td>Yes</td>\n",
       "      <td>No internet</td>\n",
       "      <td>No internet</td>\n",
       "      <td>No internet</td>\n",
       "      <td>No internet</td>\n",
       "      <td>72.028594</td>\n",
       "      <td>0</td>\n",
       "      <td>0</td>\n",
       "      <td>7378000.00</td>\n",
       "      <td>0.000000</td>\n",
       "    </tr>\n",
       "    <tr>\n",
       "      <th>4</th>\n",
       "      <td>Male</td>\n",
       "      <td>0</td>\n",
       "      <td>Yes</td>\n",
       "      <td>No</td>\n",
       "      <td>19</td>\n",
       "      <td>Yes</td>\n",
       "      <td>DSL</td>\n",
       "      <td>47.66</td>\n",
       "      <td>891.531418</td>\n",
       "      <td>No</td>\n",
       "      <td>...</td>\n",
       "      <td>Yes</td>\n",
       "      <td>No</td>\n",
       "      <td>No</td>\n",
       "      <td>No</td>\n",
       "      <td>NaN</td>\n",
       "      <td>46.922706</td>\n",
       "      <td>0</td>\n",
       "      <td>0</td>\n",
       "      <td>4.11</td>\n",
       "      <td>0.052873</td>\n",
       "    </tr>\n",
       "    <tr>\n",
       "      <th>...</th>\n",
       "      <td>...</td>\n",
       "      <td>...</td>\n",
       "      <td>...</td>\n",
       "      <td>...</td>\n",
       "      <td>...</td>\n",
       "      <td>...</td>\n",
       "      <td>...</td>\n",
       "      <td>...</td>\n",
       "      <td>...</td>\n",
       "      <td>...</td>\n",
       "      <td>...</td>\n",
       "      <td>...</td>\n",
       "      <td>...</td>\n",
       "      <td>...</td>\n",
       "      <td>...</td>\n",
       "      <td>...</td>\n",
       "      <td>...</td>\n",
       "      <td>...</td>\n",
       "      <td>...</td>\n",
       "      <td>...</td>\n",
       "      <td>...</td>\n",
       "    </tr>\n",
       "    <tr>\n",
       "      <th>11995</th>\n",
       "      <td>Female</td>\n",
       "      <td>0</td>\n",
       "      <td>No</td>\n",
       "      <td>Yes</td>\n",
       "      <td>53</td>\n",
       "      <td>Yes</td>\n",
       "      <td>Fiber optic</td>\n",
       "      <td>50.28</td>\n",
       "      <td>2681.725143</td>\n",
       "      <td>Yes</td>\n",
       "      <td>...</td>\n",
       "      <td>Yes</td>\n",
       "      <td>No</td>\n",
       "      <td>No</td>\n",
       "      <td>NaN</td>\n",
       "      <td>No</td>\n",
       "      <td>50.598588</td>\n",
       "      <td>0</td>\n",
       "      <td>1</td>\n",
       "      <td>1.11</td>\n",
       "      <td>0.088431</td>\n",
       "    </tr>\n",
       "    <tr>\n",
       "      <th>11996</th>\n",
       "      <td>Female</td>\n",
       "      <td>0</td>\n",
       "      <td>Yes</td>\n",
       "      <td>Yes</td>\n",
       "      <td>57</td>\n",
       "      <td>Yes</td>\n",
       "      <td>No</td>\n",
       "      <td>80.92</td>\n",
       "      <td>NaN</td>\n",
       "      <td>No</td>\n",
       "      <td>...</td>\n",
       "      <td>Yes</td>\n",
       "      <td>No internet</td>\n",
       "      <td>No internet</td>\n",
       "      <td>No internet</td>\n",
       "      <td>No internet</td>\n",
       "      <td>NaN</td>\n",
       "      <td>0</td>\n",
       "      <td>0</td>\n",
       "      <td>8092000.00</td>\n",
       "      <td>0.000000</td>\n",
       "    </tr>\n",
       "    <tr>\n",
       "      <th>11997</th>\n",
       "      <td>Male</td>\n",
       "      <td>0</td>\n",
       "      <td>Yes</td>\n",
       "      <td>No</td>\n",
       "      <td>58</td>\n",
       "      <td>Yes</td>\n",
       "      <td>DSL</td>\n",
       "      <td>29.89</td>\n",
       "      <td>1720.194443</td>\n",
       "      <td>No</td>\n",
       "      <td>...</td>\n",
       "      <td>No</td>\n",
       "      <td>Yes</td>\n",
       "      <td>Yes</td>\n",
       "      <td>Yes</td>\n",
       "      <td>Yes</td>\n",
       "      <td>29.658525</td>\n",
       "      <td>0</td>\n",
       "      <td>0</td>\n",
       "      <td>6.06</td>\n",
       "      <td>NaN</td>\n",
       "    </tr>\n",
       "    <tr>\n",
       "      <th>11998</th>\n",
       "      <td>Male</td>\n",
       "      <td>0</td>\n",
       "      <td>No</td>\n",
       "      <td>Yes</td>\n",
       "      <td>19</td>\n",
       "      <td>No</td>\n",
       "      <td>DSL</td>\n",
       "      <td>82.67</td>\n",
       "      <td>1604.933027</td>\n",
       "      <td>No</td>\n",
       "      <td>...</td>\n",
       "      <td>Yes</td>\n",
       "      <td>Yes</td>\n",
       "      <td>Yes</td>\n",
       "      <td>No</td>\n",
       "      <td>No</td>\n",
       "      <td>84.470159</td>\n",
       "      <td>0</td>\n",
       "      <td>1</td>\n",
       "      <td>4.11</td>\n",
       "      <td>0.196941</td>\n",
       "    </tr>\n",
       "    <tr>\n",
       "      <th>11999</th>\n",
       "      <td>Male</td>\n",
       "      <td>0</td>\n",
       "      <td>No</td>\n",
       "      <td>Yes</td>\n",
       "      <td>38</td>\n",
       "      <td>Yes</td>\n",
       "      <td>Fiber optic</td>\n",
       "      <td>109.47</td>\n",
       "      <td>4144.390827</td>\n",
       "      <td>No</td>\n",
       "      <td>...</td>\n",
       "      <td>No</td>\n",
       "      <td>No</td>\n",
       "      <td>No</td>\n",
       "      <td>Yes</td>\n",
       "      <td>No</td>\n",
       "      <td>109.062917</td>\n",
       "      <td>1</td>\n",
       "      <td>1</td>\n",
       "      <td>3.38</td>\n",
       "      <td>0.139957</td>\n",
       "    </tr>\n",
       "  </tbody>\n",
       "</table>\n",
       "<p>12000 rows × 26 columns</p>\n",
       "</div>"
      ],
      "text/plain": [
       "       Gender  SeniorCitizen Partner Dependents  Tenure PhoneService  \\\n",
       "0        Male              0      No         No      37          Yes   \n",
       "1      Female              0      No         No      32          Yes   \n",
       "2        Male              1     Yes         No       5          Yes   \n",
       "3        Male              0     Yes         No      12          Yes   \n",
       "4        Male              0     Yes         No      19          Yes   \n",
       "...       ...            ...     ...        ...     ...          ...   \n",
       "11995  Female              0      No        Yes      53          Yes   \n",
       "11996  Female              0     Yes        Yes      57          Yes   \n",
       "11997    Male              0     Yes         No      58          Yes   \n",
       "11998    Male              0      No        Yes      19           No   \n",
       "11999    Male              0      No        Yes      38          Yes   \n",
       "\n",
       "      InternetService  MonthlyCharges  TotalCharges Churn  ...  \\\n",
       "0         Fiber optic          104.55   3947.345444    No  ...   \n",
       "1                  No           43.28   1376.619026    No  ...   \n",
       "2                 DSL           88.73    458.930836    No  ...   \n",
       "3                  No           73.78    864.343128   Yes  ...   \n",
       "4                 DSL           47.66    891.531418    No  ...   \n",
       "...               ...             ...           ...   ...  ...   \n",
       "11995     Fiber optic           50.28   2681.725143   Yes  ...   \n",
       "11996              No           80.92           NaN    No  ...   \n",
       "11997             DSL           29.89   1720.194443    No  ...   \n",
       "11998             DSL           82.67   1604.933027    No  ...   \n",
       "11999     Fiber optic          109.47   4144.390827    No  ...   \n",
       "\n",
       "          MultipleLines  StreamingTV  StreamingMovies  OnlineSecurity  \\\n",
       "0                    No          Yes               No              No   \n",
       "1                    No  No internet      No internet     No internet   \n",
       "2      No phone service           No              Yes              No   \n",
       "3                   Yes  No internet      No internet     No internet   \n",
       "4                   Yes           No               No              No   \n",
       "...                 ...          ...              ...             ...   \n",
       "11995               Yes           No               No             NaN   \n",
       "11996               Yes  No internet      No internet     No internet   \n",
       "11997                No          Yes              Yes             Yes   \n",
       "11998               Yes          Yes              Yes              No   \n",
       "11999                No           No               No             Yes   \n",
       "\n",
       "      OnlineBackup AvgChargesPerMonth IsHighValueCustomer IsHeavyDataUser  \\\n",
       "0               No         106.685012                   1               1   \n",
       "1      No internet          43.019345                   0               0   \n",
       "2              NaN          91.786167                   0               1   \n",
       "3      No internet          72.028594                   0               0   \n",
       "4              NaN          46.922706                   0               0   \n",
       "...            ...                ...                 ...             ...   \n",
       "11995           No          50.598588                   0               1   \n",
       "11996  No internet                NaN                   0               0   \n",
       "11997          Yes          29.658525                   0               0   \n",
       "11998           No          84.470159                   0               1   \n",
       "11999           No         109.062917                   1               1   \n",
       "\n",
       "      RevenuePerGB StreamingHoursPerDay  \n",
       "0             4.11             0.232940  \n",
       "1       4328000.00             0.000000  \n",
       "2             2.58             0.291866  \n",
       "3       7378000.00             0.000000  \n",
       "4             4.11             0.052873  \n",
       "...            ...                  ...  \n",
       "11995         1.11             0.088431  \n",
       "11996   8092000.00             0.000000  \n",
       "11997         6.06                  NaN  \n",
       "11998         4.11             0.196941  \n",
       "11999         3.38             0.139957  \n",
       "\n",
       "[12000 rows x 26 columns]"
      ]
     },
     "execution_count": 27,
     "metadata": {},
     "output_type": "execute_result"
    }
   ],
   "source": [
    "df"
   ]
  },
  {
   "cell_type": "code",
   "execution_count": 28,
   "id": "61d7f36b-2dfb-40f4-971c-e686b793cadf",
   "metadata": {},
   "outputs": [
    {
     "data": {
      "text/plain": [
       "Index(['Gender', 'SeniorCitizen', 'Partner', 'Dependents', 'Tenure',\n",
       "       'PhoneService', 'InternetService', 'MonthlyCharges', 'TotalCharges',\n",
       "       'Churn', 'NumTechSupportCalls', 'NumServiceTickets',\n",
       "       'StreamingMinutesPerMonth', 'DataUsageGB', 'Contract', 'PaymentMethod',\n",
       "       'MultipleLines', 'StreamingTV', 'StreamingMovies', 'OnlineSecurity',\n",
       "       'OnlineBackup', 'AvgChargesPerMonth', 'IsHighValueCustomer',\n",
       "       'IsHeavyDataUser', 'RevenuePerGB', 'StreamingHoursPerDay'],\n",
       "      dtype='object')"
      ]
     },
     "execution_count": 28,
     "metadata": {},
     "output_type": "execute_result"
    }
   ],
   "source": [
    "df.columns"
   ]
  },
  {
   "cell_type": "code",
   "execution_count": 29,
   "id": "6c1bc980-ade3-47da-9772-7441e769871d",
   "metadata": {},
   "outputs": [
    {
     "data": {
      "image/png": "[encoded data removed]",
      "text/plain": [
       "<Figure size 640x480 with 1 Axes>"
      ]
     },
     "metadata": {},
     "output_type": "display_data"
    }
   ],
   "source": [
    "sns.boxplot(y=df['TotalCharges'])\n",
    "plt.title('Boxplot of Monthly Charges')\n",
    "plt.ylabel('MonthlyCharges')\n",
    "plt.show()"
   ]
  },
  {
   "cell_type": "code",
   "execution_count": 30,
   "id": "5b8c7023-2caf-401f-b137-27bd6473a148",
   "metadata": {},
   "outputs": [
    {
     "data": {
      "text/plain": [
       "(12000, 26)"
      ]
     },
     "execution_count": 30,
     "metadata": {},
     "output_type": "execute_result"
    }
   ],
   "source": [
    "df.shape"
   ]
  },
  {
   "cell_type": "code",
   "execution_count": 31,
   "id": "5efa927a-6920-4682-970e-1531fb604c1c",
   "metadata": {},
   "outputs": [],
   "source": [
    "def remove_outliers_iqr(df, columns):\n",
    "    for col in columns:\n",
    "        Q1 = df[col].quantile(0.25)\n",
    "        Q3 = df[col].quantile(0.75)\n",
    "        IQR = Q3 - Q1\n",
    "        \n",
    "        lower_bound = Q1 - 1.5 * IQR\n",
    "        upper_bound = Q3 + 1.5 * IQR\n",
    "        \n",
    "        df = df[(df[col] >= lower_bound) & (df[col] <= upper_bound)]\n",
    "    \n",
    "    return df"
   ]
  },
  {
   "cell_type": "code",
   "execution_count": 32,
   "id": "17cc174d-3149-4a0c-b94d-44752b9ae1b3",
   "metadata": {},
   "outputs": [],
   "source": [
    "df = remove_outliers_iqr(df, ['TotalCharges'])"
   ]
  },
  {
   "cell_type": "code",
   "execution_count": 33,
   "id": "84fab4f8-c167-483c-a249-07ae2afc123f",
   "metadata": {},
   "outputs": [
    {
     "data": {
      "text/plain": [
       "(11243, 26)"
      ]
     },
     "execution_count": 33,
     "metadata": {},
     "output_type": "execute_result"
    }
   ],
   "source": [
    "df.shape"
   ]
  },
  {
   "cell_type": "code",
   "execution_count": 34,
   "id": "bd959f12-6efb-462b-8b6a-871923c7ca0d",
   "metadata": {},
   "outputs": [
    {
     "data": {
      "text/plain": [
       "Index(['Gender', 'SeniorCitizen', 'Partner', 'Dependents', 'Tenure',\n",
       "       'PhoneService', 'InternetService', 'MonthlyCharges', 'TotalCharges',\n",
       "       'Churn', 'NumTechSupportCalls', 'NumServiceTickets',\n",
       "       'StreamingMinutesPerMonth', 'DataUsageGB', 'Contract', 'PaymentMethod',\n",
       "       'MultipleLines', 'StreamingTV', 'StreamingMovies', 'OnlineSecurity',\n",
       "       'OnlineBackup', 'AvgChargesPerMonth', 'IsHighValueCustomer',\n",
       "       'IsHeavyDataUser', 'RevenuePerGB', 'StreamingHoursPerDay'],\n",
       "      dtype='object')"
      ]
     },
     "execution_count": 34,
     "metadata": {},
     "output_type": "execute_result"
    }
   ],
   "source": [
    "df.columns"
   ]
  },
  {
   "cell_type": "code",
   "execution_count": null,
   "id": "918440bc-1bae-4297-aa31-bb24cd3d94a5",
   "metadata": {},
   "outputs": [],
   "source": []
  },
  {
   "cell_type": "code",
   "execution_count": null,
   "id": "8b979bd6-d1d7-4ae2-89b9-ea23c518b3d6",
   "metadata": {},
   "outputs": [],
   "source": []
  },
  {
   "cell_type": "code",
   "execution_count": null,
   "id": "3b625571-2d88-41d4-8822-349789b5ea75",
   "metadata": {},
   "outputs": [],
   "source": []
  }
 ],
 "metadata": {
  "kernelspec": {
   "display_name": "Python [conda env:base] *",
   "language": "python",
   "name": "conda-base-py"
  },
  "language_info": {
   "codemirror_mode": {
    "name": "ipython",
    "version": 3
   },
   "file_extension": ".py",
   "mimetype": "text/x-python",
   "name": "python",
   "nbconvert_exporter": "python",
   "pygments_lexer": "ipython3",
   "version": "3.13.5"
  }
 },
 "nbformat": 4,
 "nbformat_minor": 5
}
